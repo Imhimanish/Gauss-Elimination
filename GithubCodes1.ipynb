{
  "nbformat": 4,
  "nbformat_minor": 0,
  "metadata": {
    "colab": {
      "provenance": [],
      "authorship_tag": "ABX9TyPC/7ipYiJ7alB7xRXnR9B8",
      "include_colab_link": true
    },
    "kernelspec": {
      "name": "python3",
      "display_name": "Python 3"
    },
    "language_info": {
      "name": "python"
    }
  },
  "cells": [
    {
      "cell_type": "markdown",
      "metadata": {
        "id": "view-in-github",
        "colab_type": "text"
      },
      "source": [
        "<a href=\"https://colab.research.google.com/github/Imhimanish/Gauss-Elimination/blob/main/GithubCodes1.ipynb\" target=\"_parent\"><img src=\"https://colab.research.google.com/assets/colab-badge.svg\" alt=\"Open In Colab\"/></a>"
      ]
    },
    {
      "cell_type": "markdown",
      "source": [
        "## **Gauss Elimination**"
      ],
      "metadata": {
        "id": "jhH9ICSVYu0I"
      }
    },
    {
      "cell_type": "code",
      "source": [
        "import numpy as np\n",
        "def GE(A,n):\n",
        "  for k in range(n-1):\n",
        "    for i in range(k+1,n):\n",
        "      r=A[i,k]/A[k,k]\n",
        "      A[i,:]=A[i,:]-r*A[k,:]\n",
        "  return\n",
        "def BS(A,n):\n",
        "  X=np.zeros(n)\n",
        "  B=A[:,-1]\n",
        "  for i in range(n-1,-1,-1):\n",
        "    X[i]=(B[i]-np.sum(A[i,i+1:n]*X[i+1:n]))/A[i,i]\n",
        "  return X\n",
        "A=np.array([[3,2,4,7],\n",
        "[2,1,1,4],\n",
        "[1,3,5,2]],dtype='f')\n",
        "n=len(A)\n",
        "GE(A,n)\n",
        "X=BS(A,n)\n",
        "print(X)"
      ],
      "metadata": {
        "colab": {
          "base_uri": "https://localhost:8080/"
        },
        "id": "JHPVvjre6P_P",
        "outputId": "fea7473d-51a0-4a08-9693-8c8a162a05fa"
      },
      "execution_count": 2,
      "outputs": [
        {
          "output_type": "stream",
          "name": "stdout",
          "text": [
            "[ 2.24999993 -1.12500044  0.62500028]\n"
          ]
        }
      ]
    }
  ]
}